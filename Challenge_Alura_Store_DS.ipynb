{
  "nbformat": 4,
  "nbformat_minor": 0,
  "metadata": {
    "colab": {
      "provenance": [],
      "authorship_tag": "ABX9TyMeSQiBmfkkqKfkl5MvSZny",
      "include_colab_link": true
    },
    "kernelspec": {
      "name": "python3",
      "display_name": "Python 3"
    },
    "language_info": {
      "name": "python"
    }
  },
  "cells": [
    {
      "cell_type": "markdown",
      "metadata": {
        "id": "view-in-github",
        "colab_type": "text"
      },
      "source": [
        "<a href=\"https://colab.research.google.com/github/w2k31984/Challenge1_Alura_Store_DS/blob/master/Challenge_Alura_Store_DS.ipynb\" target=\"_parent\"><img src=\"https://colab.research.google.com/assets/colab-badge.svg\" alt=\"Open In Colab\"/></a>"
      ]
    },
    {
      "cell_type": "markdown",
      "source": [
        "#Challenge Alura Store Data Science.\n",
        "Descripcion del desafio: <br>\n",
        "Me han contratado para realizar este análisis. Nuestro jefe nos ha pedido que hagas la evaluación basándose en estos cinco aspectos:\n",
        "\n",
        "\n",
        "1. Facturación total de cada tienda, es decir, cuál tienda vende más.\n",
        "2. Cuál es son las categorías más populares de cada tienda.\n",
        "3. Cuál es productos se venden más en cada tienda.\n",
        "4. Cuál es el promedio de evaluación de cada uno de los clientes.\n",
        "5. Cuál es son los productos más y menos vendidos en cada tienda.\n",
        "6. cuál es el costo promedio del envío desde la tienda hasta el lugar de\n",
        "  cada uno de los clientes.\n",
        "7. Analisis de los resultados.\n"
      ],
      "metadata": {
        "id": "N5hucNKaFDeB"
      }
    },
    {
      "cell_type": "code",
      "execution_count": null,
      "metadata": {
        "colab": {
          "base_uri": "https://localhost:8080/"
        },
        "id": "mHxRBbYwEstF",
        "outputId": "14e1f686-5079-47ea-a2f8-20cac017bfaa"
      },
      "outputs": [
        {
          "output_type": "stream",
          "name": "stdout",
          "text": [
            "Informacion cargada con exito!\n"
          ]
        }
      ],
      "source": [
        "# Importando la librería de pandas y los datos desde el repositorio de GitHub\n",
        "import pandas as pd\n",
        "\n",
        "import matplotlib.pyplot as plt # Para crear graficas sencillas.\n",
        "\n",
        "\n",
        "# URLs raw de los archivos CSV\n",
        "url1 = \"https://raw.githubusercontent.com/alura-es-cursos/challenge1-data-science-latam/main/base-de-datos-challenge1-latam/tienda_1%20.csv\"\n",
        "url2 = \"https://raw.githubusercontent.com/alura-es-cursos/challenge1-data-science-latam/main/base-de-datos-challenge1-latam/tienda_2.csv\"\n",
        "url3 = \"https://raw.githubusercontent.com/alura-es-cursos/challenge1-data-science-latam/main/base-de-datos-challenge1-latam/tienda_3.csv\"\n",
        "url4 = \"https://raw.githubusercontent.com/alura-es-cursos/challenge1-data-science-latam/main/base-de-datos-challenge1-latam/tienda_4.csv\"\n",
        "\n",
        "# Cargando los datos desde las URLs raw\n",
        "tienda_1 = pd.read_csv(url1)\n",
        "tienda_2 = pd.read_csv(url2)\n",
        "tienda_3 = pd.read_csv(url3)\n",
        "tienda_4 = pd.read_csv(url4)\n",
        "\n",
        "print(\"Informacion cargada con exito!\")\n"
      ]
    },
    {
      "cell_type": "code",
      "source": [
        "# Mostrar las primeras filas del DataFrame\n",
        "print(tienda_1.head())\n",
        "\n",
        "print(\"----------------------------------------------------------------------------------\")\n",
        "\n",
        "# Mostrar los nombres de las columnas\n",
        "print(tienda_1.columns)"
      ],
      "metadata": {
        "colab": {
          "base_uri": "https://localhost:8080/"
        },
        "id": "B0bIYyXGju3H",
        "outputId": "71d88190-8006-47b1-a37e-e30c145bb1f2"
      },
      "execution_count": null,
      "outputs": [
        {
          "output_type": "stream",
          "name": "stdout",
          "text": [
            "            Producto Categoría del Producto    Precio  Costo de envío  \\\n",
            "0  Asistente virtual           Electrónicos  164300.0          6900.0   \n",
            "1    Mesa de comedor                Muebles  192300.0          8400.0   \n",
            "2      Juego de mesa               Juguetes  209600.0         15900.0   \n",
            "3         Microondas      Electrodomésticos  757500.0         41000.0   \n",
            "4   Silla de oficina                Muebles  335200.0         20200.0   \n",
            "\n",
            "  Fecha de Compra         Vendedor Lugar de Compra  Calificación  \\\n",
            "0      16/01/2021      Pedro Gomez          Bogotá             4   \n",
            "1      18/05/2022  Beatriz Morales        Medellín             1   \n",
            "2      15/03/2021   Juan Fernandez       Cartagena             1   \n",
            "3      03/05/2022   Juan Fernandez            Cali             4   \n",
            "4      07/11/2020    Maria Alfonso        Medellín             5   \n",
            "\n",
            "       Método de pago  Cantidad de cuotas       lat       lon  \n",
            "0  Tarjeta de crédito                   8   4.60971 -74.08175  \n",
            "1  Tarjeta de crédito                   4   6.25184 -75.56359  \n",
            "2  Tarjeta de crédito                   1  10.39972 -75.51444  \n",
            "3               Nequi                   1   3.43722 -76.52250  \n",
            "4               Nequi                   1   6.25184 -75.56359  \n",
            "----------------------------------------------------------------------------------\n",
            "Index(['Producto', 'Categoría del Producto', 'Precio', 'Costo de envío',\n",
            "       'Fecha de Compra', 'Vendedor', 'Lugar de Compra', 'Calificación',\n",
            "       'Método de pago', 'Cantidad de cuotas', 'lat', 'lon'],\n",
            "      dtype='object')\n"
          ]
        }
      ]
    },
    {
      "cell_type": "markdown",
      "source": [
        "#1. Analisis de facturación.\n",
        "Facturación total de cada tienda, es decir, cuál tienda vende más.\n"
      ],
      "metadata": {
        "id": "AlpYlCfgM4Jv"
      }
    },
    {
      "cell_type": "code",
      "source": [
        "#1 Calcular el total de facturación para cada tienda\n",
        "total_facturacion_tienda_1 = tienda_1[\"Precio\"].sum()\n",
        "total_facturacion_tienda_2 = tienda_2[\"Precio\"].sum()\n",
        "total_facturacion_tienda_3 = tienda_3[\"Precio\"].sum()\n",
        "total_facturacion_tienda_4 = tienda_4[\"Precio\"].sum()\n",
        "\n",
        "# Mostrar los resultados\n",
        "print(f\"Total de facturación de Tienda 1: {round(total_facturacion_tienda_1,2)} pesos\")\n",
        "print(f\"Total de facturación de Tienda 2: {round(total_facturacion_tienda_2,2)} pesos\")\n",
        "print(f\"Total de facturación de Tienda 3: {round(total_facturacion_tienda_3,2)} pesos\")\n",
        "print(f\"Total de facturación de Tienda 4: {round(total_facturacion_tienda_4,2)} pesos\")"
      ],
      "metadata": {
        "colab": {
          "base_uri": "https://localhost:8080/"
        },
        "id": "lBoXtW0QhsYW",
        "outputId": "e5cf7e6c-e1c7-4ca3-8f88-6fcb09116e71"
      },
      "execution_count": null,
      "outputs": [
        {
          "output_type": "stream",
          "name": "stdout",
          "text": [
            "Total de facturación de Tienda 1: 1150880400.0 pesos\n",
            "Total de facturación de Tienda 2: 1116343500.0 pesos\n",
            "Total de facturación de Tienda 3: 1098019600.0 pesos\n",
            "Total de facturación de Tienda 4: 1038375700.0 pesos\n"
          ]
        }
      ]
    },
    {
      "cell_type": "code",
      "source": [
        "# Creando un DataFrame con los totales de facturación\n",
        "totales_facturacion = pd.DataFrame({\n",
        "    \"Tienda\": [\"Tienda 1\", \"Tienda 2\", \"Tienda 3\", \"Tienda 4\"],\n",
        "    \"Total Facturación\": [\n",
        "        total_facturacion_tienda_1,\n",
        "        total_facturacion_tienda_2,\n",
        "        total_facturacion_tienda_3,\n",
        "        total_facturacion_tienda_4\n",
        "    ]\n",
        "})\n",
        "\n",
        "# Mostrar el DataFrame\n",
        "print(totales_facturacion)"
      ],
      "metadata": {
        "colab": {
          "base_uri": "https://localhost:8080/"
        },
        "id": "uqvpi5mSl6gh",
        "outputId": "35a8c210-a083-4089-8276-96523fe6c0b4"
      },
      "execution_count": null,
      "outputs": [
        {
          "output_type": "stream",
          "name": "stdout",
          "text": [
            "     Tienda  Total Facturación\n",
            "0  Tienda 1       1.150880e+09\n",
            "1  Tienda 2       1.116344e+09\n",
            "2  Tienda 3       1.098020e+09\n",
            "3  Tienda 4       1.038376e+09\n"
          ]
        }
      ]
    },
    {
      "cell_type": "markdown",
      "source": [],
      "metadata": {
        "id": "wF2ih-LeQ7pG"
      }
    },
    {
      "cell_type": "code",
      "source": [
        "# Desactivar la notación científica en pandas\n",
        "pd.set_option('display.float_format', '{:.2f}'.format)\n",
        "\n",
        "# Ordenar las categorías por cantidad vendida (de mayor a menor)\n",
        "totales_facturacion = totales_facturacion.sort_values(by=\"Tienda\", ascending=False)\n",
        "\n",
        "# Mostrar el DataFrame con los totales de facturación\n",
        "print(totales_facturacion)"
      ],
      "metadata": {
        "colab": {
          "base_uri": "https://localhost:8080/"
        },
        "id": "7QxwuA5IpENd",
        "outputId": "ef22a2e6-b21e-4e86-8b74-047af1975502"
      },
      "execution_count": null,
      "outputs": [
        {
          "output_type": "stream",
          "name": "stdout",
          "text": [
            "     Tienda  Total Facturación\n",
            "3  Tienda 4      1038375700.00\n",
            "2  Tienda 3      1098019600.00\n",
            "1  Tienda 2      1116343500.00\n",
            "0  Tienda 1      1150880400.00\n"
          ]
        }
      ]
    },
    {
      "cell_type": "markdown",
      "source": [
        "#2. Analisis de Categorias.\n",
        "Las categorías más populares de cada tienda."
      ],
      "metadata": {
        "id": "o5sxnIX1qAw5"
      }
    },
    {
      "cell_type": "code",
      "source": [
        "# Combinar todos los datos en un solo DataFrame\n",
        "datos_combinados = pd.concat([tienda_1, tienda_2, tienda_3, tienda_4], ignore_index=True)\n",
        "print(\"Informacion cargada con exito!\")"
      ],
      "metadata": {
        "colab": {
          "base_uri": "https://localhost:8080/"
        },
        "id": "m7ShuiYapIoW",
        "outputId": "fdbceb2f-ae29-40ff-952f-d82099c997e5"
      },
      "execution_count": null,
      "outputs": [
        {
          "output_type": "stream",
          "name": "stdout",
          "text": [
            "Informacion cargada con exito!\n"
          ]
        }
      ]
    },
    {
      "cell_type": "code",
      "source": [
        "# Agrupar por categoría y sumar la cantidad vendida\n",
        "categorias_mas_vendidas = datos_combinados.groupby(\"Categoría del Producto\")[\"Precio\"].sum().reset_index()\n",
        "\n",
        "# Renombrar la columna 'Precio' por 'cantidad'\n",
        "categorias_mas_vendidas = categorias_mas_vendidas.rename(columns={\"Precio\": \"Cantidad\"})\n",
        "\n",
        "# Ordenar las categorías por cantidad vendida (de mayor a menor)\n",
        "categorias_mas_vendidas = categorias_mas_vendidas.sort_values(by=\"Cantidad\", ascending=False)\n",
        "\n",
        "# Mostrar las categorías más vendidas\n",
        "print(categorias_mas_vendidas)"
      ],
      "metadata": {
        "colab": {
          "base_uri": "https://localhost:8080/"
        },
        "id": "6RB5WQrevpUM",
        "outputId": "cfab6e29-999b-4839-c5c8-96270a51dcb8"
      },
      "execution_count": null,
      "outputs": [
        {
          "output_type": "stream",
          "name": "stdout",
          "text": [
            "    Categoría del Producto      Cantidad\n",
            "3             Electrónicos 1660576500.00\n",
            "2        Electrodomésticos 1324751100.00\n",
            "7                  Muebles  757661000.00\n",
            "4   Instrumentos musicales  348772600.00\n",
            "1     Deportes y diversión  142977700.00\n",
            "5                 Juguetes   73604400.00\n",
            "0  Artículos para el hogar   57579800.00\n",
            "6                   Libros   37696100.00\n"
          ]
        }
      ]
    },
    {
      "cell_type": "markdown",
      "source": [
        "#3. Cuál es productos se venden más en tiendas."
      ],
      "metadata": {
        "id": "SYze4IdPyXi0"
      }
    },
    {
      "cell_type": "code",
      "source": [
        "# Agrupar por productos y sumar la cantidad vendida\n",
        "productos_mas_vendidos = datos_combinados.groupby(\"Producto\")[\"Precio\"].sum().reset_index()\n",
        "\n",
        "# Renombrando el campo 'Precio' a 'Cantidad'\n",
        "productos_mas_vendidos = productos_mas_vendidos.rename(columns={\"Precio\": \"Cantidad\"})\n",
        "\n",
        "# Ordenar las categorías por cantidad vendida (de mayor a menor)\n",
        "productos_mas_vendidos = productos_mas_vendidos.sort_values(by=\"Producto\", ascending=False)\n",
        "\n",
        "# Mostrar las categorías más vendidas\n",
        "print(productos_mas_vendidos)"
      ],
      "metadata": {
        "colab": {
          "base_uri": "https://localhost:8080/"
        },
        "id": "0PmKZABv0Lx1",
        "outputId": "54187f6f-2b1b-4480-eeea-51a721e1be13"
      },
      "execution_count": null,
      "outputs": [
        {
          "output_type": "stream",
          "name": "stdout",
          "text": [
            "                       Producto     Cantidad\n",
            "50                 Vaso térmico   8497400.00\n",
            "49                  Tablet ABXY 219012800.00\n",
            "48                TV LED UHD 4K 432489600.00\n",
            "47              Sofá reclinable 123279100.00\n",
            "46                   Smartwatch  29929800.00\n",
            "45                     Smart TV 290221800.00\n",
            "44                       Sillón  40796800.00\n",
            "43             Silla de oficina  69099000.00\n",
            "42                 Set de vasos   5584200.00\n",
            "41                 Set de ollas  30506400.00\n",
            "40             Secadora de ropa 210238000.00\n",
            "39                 Refrigerador 384937400.00\n",
            "38                    Pandereta  12663400.00\n",
            "37              Olla de presión  12928800.00\n",
            "36                  Muñeca bebé   8591500.00\n",
            "35          Modelado predictivo  12616100.00\n",
            "34                      Mochila  16065700.00\n",
            "33                   Microondas 115699500.00\n",
            "32                Mesa de noche  58419500.00\n",
            "31              Mesa de comedor  46815700.00\n",
            "30               Mesa de centro  29842000.00\n",
            "29                 Lavavajillas 240536500.00\n",
            "28             Lavadora de ropa 242468600.00\n",
            "27                Kit de bancas  53284900.00\n",
            "26                Juego de mesa  32451800.00\n",
            "25                    Iphone 15 401051200.00\n",
            "24    Iniciando en programación   9625500.00\n",
            "23                    Impresora  56227300.00\n",
            "22           Guitarra eléctrica 129404800.00\n",
            "21            Guitarra acústica  58898100.00\n",
            "20                       Estufa 130871100.00\n",
            "19               Dinosaurio Rex   3112900.00\n",
            "18      Dashboards con Power BI   6418400.00\n",
            "17           Cuerda para saltar   3068300.00\n",
            "16              Cubo mágico 8x8   2729300.00\n",
            "15                   Cubertería   8560400.00\n",
            "14  Ciencia de datos con Python   9036100.00\n",
            "13                 Celular ABXY 157911100.00\n",
            "12    Carrito de control remoto  14767700.00\n",
            "11                    Cama king 135780400.00\n",
            "10                     Cama box 104097800.00\n",
            "9       Bloques de construcción   6802100.00\n",
            "8                     Bicicleta  96487500.00\n",
            "7                       Batería 147806300.00\n",
            "6             Balón de voleibol   9099800.00\n",
            "5           Balón de baloncesto   9759000.00\n",
            "4     Auriculares con micrófono  22748500.00\n",
            "3                   Auriculares  16516300.00\n",
            "2             Asistente virtual  34468100.00\n",
            "1                       Armario  96245800.00\n",
            "0             Ajedrez de madera   5149100.00\n"
          ]
        }
      ]
    },
    {
      "cell_type": "code",
      "source": [
        "# Mostrar las 10 primeras categorías más vendidas\n",
        "top_10_productos = productos_mas_vendidos.head(10)\n",
        "print(top_10_productos)"
      ],
      "metadata": {
        "colab": {
          "base_uri": "https://localhost:8080/"
        },
        "id": "BCt8lYNa1PYM",
        "outputId": "b2684987-e665-4f86-d0c3-0a3ea84bc0b0"
      },
      "execution_count": null,
      "outputs": [
        {
          "output_type": "stream",
          "name": "stdout",
          "text": [
            "            Producto     Cantidad\n",
            "48     TV LED UHD 4K 432489600.00\n",
            "25         Iphone 15 401051200.00\n",
            "39      Refrigerador 384937400.00\n",
            "45          Smart TV 290221800.00\n",
            "28  Lavadora de ropa 242468600.00\n",
            "29      Lavavajillas 240536500.00\n",
            "49       Tablet ABXY 219012800.00\n",
            "40  Secadora de ropa 210238000.00\n",
            "13      Celular ABXY 157911100.00\n",
            "7            Batería 147806300.00\n"
          ]
        }
      ]
    },
    {
      "cell_type": "markdown",
      "source": [
        "#4 .Cuál es el promedio de evaluación de cada uno de los clientes."
      ],
      "metadata": {
        "id": "yC1qzLkjGlRP"
      }
    },
    {
      "cell_type": "code",
      "source": [
        "# Eliminar valores nulos en la columna \"evaluacion\"\n",
        "datos_combinados = datos_combinados.dropna(subset=[\"Calificación\"])\n",
        "\n",
        "# Calcular el promedio de evaluación\n",
        "promedio_evaluacion = datos_combinados[\"Calificación\"].mean()\n",
        "\n",
        "# Mostrar el resultado\n",
        "print(f\"El promedio de Calificación de los clientes en escala de 1-5 es: {promedio_evaluacion:.2f} %\")"
      ],
      "metadata": {
        "colab": {
          "base_uri": "https://localhost:8080/"
        },
        "id": "kppDD-G2Gz-t",
        "outputId": "f5a4b715-63b7-4e46-e80f-147702d4ed52"
      },
      "execution_count": null,
      "outputs": [
        {
          "output_type": "stream",
          "name": "stdout",
          "text": [
            "El promedio de Calificación de los clientes en escala de 1-5 es: 4.01 %\n"
          ]
        }
      ]
    },
    {
      "cell_type": "markdown",
      "source": [
        "#5. Productos menos vendidos en las tiendas."
      ],
      "metadata": {
        "id": "uQMt6cXOHzUs"
      }
    },
    {
      "cell_type": "code",
      "source": [
        "#Combinar todos los datos en un solo DataFrame\n",
        "datos_combinados1 = pd.concat([tienda_1, tienda_2, tienda_3, tienda_4], ignore_index=True)\n",
        "\n",
        "# Agrupar por producto y sumar la cantidad vendida\n",
        "productos_menos_vendidos = datos_combinados1.groupby(\"Producto\")[\"Precio\"].sum().reset_index()\n",
        "\n",
        "# Ordenar los productos por cantidad vendida (de menor a mayor)\n",
        "productos_menos_vendidos = productos_menos_vendidos.sort_values(by=\"Precio\", ascending=True)\n",
        "\n",
        "# Seleccionar el producto menos vendido\n",
        "productos_menos_vendidos = productos_menos_vendidos.iloc[0]\n",
        "\n",
        "# Mostrar el resultado\n",
        "print(f\"Producto menos vendido: {productos_menos_vendidos['Producto']}\")"
      ],
      "metadata": {
        "colab": {
          "base_uri": "https://localhost:8080/"
        },
        "id": "fQCQg4IsH7SF",
        "outputId": "a24e9e17-a3e1-424f-c06d-2202268786b1"
      },
      "execution_count": null,
      "outputs": [
        {
          "output_type": "stream",
          "name": "stdout",
          "text": [
            "Producto menos vendido: Cubo mágico 8x8\n"
          ]
        }
      ]
    },
    {
      "cell_type": "markdown",
      "source": [
        "#6. cuál es el costo promedio del envío desde la tienda hasta el lugar de cada uno de los clientes."
      ],
      "metadata": {
        "id": "WiTj860xNmgy"
      }
    },
    {
      "cell_type": "code",
      "source": [
        "# Eliminar valores nulos en la columna \"costo_envio\"\n",
        "datos_combinados = datos_combinados.dropna(subset=[\"Costo de envío\"])\n",
        "\n",
        "# Calcular el promedio del costo de envío\n",
        "promedio_costo_envio = datos_combinados[\"Costo de envío\"].mean()\n",
        "\n",
        "# Mostrar el resultado\n",
        "print(f\"El costo promedio del envío es: {promedio_costo_envio:.2f} pesos colombianos COP\")"
      ],
      "metadata": {
        "colab": {
          "base_uri": "https://localhost:8080/"
        },
        "id": "9JA7-aT8Nran",
        "outputId": "fca0213d-00cc-44c6-a34d-77c281e17583"
      },
      "execution_count": null,
      "outputs": [
        {
          "output_type": "stream",
          "name": "stdout",
          "text": [
            "El costo promedio del envío es: 24875.15 pesos colombianos COP\n"
          ]
        }
      ]
    },
    {
      "cell_type": "markdown",
      "source": [
        "#7. Conclusiones del Analisis\n",
        "#**Título del Reporte : Análisis de situación de tiendas.**\n",
        "\n",
        "## Introducción\n",
        "Este análisis tiene como objetivo, plantear solución a algunas incognitas planteadas por el cliente sobre las diferentes tiendas que este posee y para evaluar en base a este y sus conclusiones la decisión de cerrar algunas de estas o dar continuidad con nuevas estrategias en base a los datos analizados y presentados.\n",
        "\n",
        "## Análisis\n",
        "A continuación, se presentan los resultados obtenidos segun las preguntas realizadas.\n",
        "\n"
      ],
      "metadata": {
        "id": "8kcf9JkeQ-Cu"
      }
    },
    {
      "cell_type": "markdown",
      "source": [
        "1. Facturación total de cada tienda, es decir, cuál tienda vende más. <br>\n",
        " **R/  -La tienda que más vende es: Tienda 1 con un total de 1150880400.0 <br>\n",
        "      -La tienda que menos vende es: Tienda 4 con un total de 1038375700.0** <br>\n",
        "      *Las cantidades son representadas en pesos colombianos COP*"
      ],
      "metadata": {
        "id": "0ndMJqg1SPM8"
      }
    },
    {
      "cell_type": "code",
      "source": [
        "print(totales_facturacion)"
      ],
      "metadata": {
        "colab": {
          "base_uri": "https://localhost:8080/"
        },
        "id": "gHpo81w9S04v",
        "outputId": "c85cdd27-fac9-4817-8e81-23bdc04853e6"
      },
      "execution_count": null,
      "outputs": [
        {
          "output_type": "stream",
          "name": "stdout",
          "text": [
            "     Tienda  Total Facturación\n",
            "0  Tienda 1      1150880400.00\n",
            "1  Tienda 2      1116343500.00\n",
            "2  Tienda 3      1098019600.00\n",
            "3  Tienda 4      1038375700.00\n"
          ]
        }
      ]
    },
    {
      "cell_type": "code",
      "source": [
        "import matplotlib.pyplot as plt\n",
        "\n",
        "# Datos proporcionados\n",
        "tiendas = ['Tienda 1', 'Tienda 2', 'Tienda 3', 'Tienda 4']\n",
        "facturacion = [1150880400.00, 1116343500.00, 1098019600.00, 1038375700.00]\n",
        "\n",
        "# Crear la gráfica de barras\n",
        "plt.figure(figsize=(10, 6))  # Tamaño de la figura\n",
        "plt.bar(tiendas, facturacion, color='skyblue', edgecolor='black')\n",
        "\n",
        "# Personalizar la gráfica\n",
        "plt.title('Facturación Total por Tienda', fontsize=16)  # Título\n",
        "plt.xlabel('Tiendas', fontsize=14)  # Etiqueta del eje X\n",
        "plt.ylabel('Facturación Total', fontsize=14)  # Etiqueta del eje Y\n",
        "plt.xticks(fontsize=12)  # Tamaño de las etiquetas del eje X\n",
        "plt.yticks(fontsize=12)  # Tamaño de las etiquetas del eje Y\n",
        "\n",
        "# Agregar los valores encima de las barras\n",
        "for i, valor in enumerate(facturacion):\n",
        "    plt.text(i, valor + 10000000, f'COP{valor / 1e6:.1f}M', ha='center', fontsize=10)\n",
        "\n",
        "# Mostrar la gráfica\n",
        "plt.tight_layout()  # Ajustar el diseño para evitar recortes\n",
        "plt.show()"
      ],
      "metadata": {
        "colab": {
          "base_uri": "https://localhost:8080/",
          "height": 607
        },
        "id": "k5CPf3ERmm8S",
        "outputId": "374f19d2-692c-43eb-a4d9-ad3944adde15"
      },
      "execution_count": 84,
      "outputs": [
        {
          "output_type": "display_data",
          "data": {
            "text/plain": [
              "<Figure size 1000x600 with 1 Axes>"
            ],
            "image/png": "[encoded data removed]"
          },
          "metadata": {}
        }
      ]
    },
    {
      "cell_type": "markdown",
      "source": [
        "2. Cuál es son las categorías más populares de cada tienda.\n",
        "**1            Electrónicos <br>\n",
        "2        Electrodomésticos <br>\n",
        "3                  Muebles <br>\n",
        "4   Instrumentos musicales <br>\n",
        "5     Deportes y diversión <br>\n",
        "6                 Juguetes  \n",
        "7  Artículos para el hogar   \n",
        "8                   Libros**\n",
        "\n"
      ],
      "metadata": {
        "id": "4Zl6tgh4VoXV"
      }
    },
    {
      "cell_type": "markdown",
      "source": [
        "#3. Cuál es productos se venden más en tiendas.\n",
        "Para esta respuesta revisaremos el TOP 10 de los productos mas vendidos en tiendas."
      ],
      "metadata": {
        "id": "_dLJlLKQW8JE"
      }
    },
    {
      "cell_type": "code",
      "source": [
        "# Mostrar las 10 primeras categorías más vendidas\n",
        "top_10_productos = productos_mas_vendidos.head(10)\n",
        "print(top_10_productos)"
      ],
      "metadata": {
        "colab": {
          "base_uri": "https://localhost:8080/"
        },
        "id": "BKtrVT17XMvg",
        "outputId": "cf76216d-d698-40a9-cf87-e3bca6f4e9aa"
      },
      "execution_count": null,
      "outputs": [
        {
          "output_type": "stream",
          "name": "stdout",
          "text": [
            "            Producto     Cantidad\n",
            "50      Vaso térmico   8497400.00\n",
            "49       Tablet ABXY 219012800.00\n",
            "48     TV LED UHD 4K 432489600.00\n",
            "47   Sofá reclinable 123279100.00\n",
            "46        Smartwatch  29929800.00\n",
            "45          Smart TV 290221800.00\n",
            "44            Sillón  40796800.00\n",
            "43  Silla de oficina  69099000.00\n",
            "42      Set de vasos   5584200.00\n",
            "41      Set de ollas  30506400.00\n"
          ]
        }
      ]
    },
    {
      "cell_type": "markdown",
      "source": [
        "#4 .Cuál es el promedio de evaluación de cada uno de los clientes.\n",
        "**R/ -El promedio de Calificación de los clientes en escala de (1-5) es: 4.01 %**\n"
      ],
      "metadata": {
        "id": "oOVdldAZX4Uo"
      }
    },
    {
      "cell_type": "markdown",
      "source": [
        "#5.Productos menos vendidos en las tiendas.\n",
        "**R/ Producto menos vendido en tiendas es: Cubo mágico 8x8**"
      ],
      "metadata": {
        "id": "SQYeoWTEYhgj"
      }
    },
    {
      "cell_type": "markdown",
      "source": [
        "#6. cuál es el costo promedio del envío desde la tienda hasta el lugar de cada uno de los clientes.\n",
        "**R/El costo promedio del envío es: 24875.15 pesos colombianos COP**"
      ],
      "metadata": {
        "id": "9RpdpwHiZUAc"
      }
    }
  ]
}